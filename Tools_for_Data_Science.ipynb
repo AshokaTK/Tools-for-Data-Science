{
 "cells": [
  {
   "cell_type": "markdown",
   "id": "4b6a637b",
   "metadata": {},
   "source": [
    "title for practice"
   ]
  },
  {
   "cell_type": "markdown",
   "id": "633b5e15",
   "metadata": {},
   "source": [
    "below lines are while loop"
   ]
  },
  {
   "cell_type": "markdown",
   "id": "7e53e7b6",
   "metadata": {},
   "source": [
    "The list of data science languages are\n",
    "Python\n",
    "R\n",
    "SQL\n",
    "Java\n",
    "Julia\n",
    "Scala\n",
    "C/C++\n",
    "JavaScript"
   ]
  },
  {
   "cell_type": "markdown",
   "id": "98719a67",
   "metadata": {},
   "source": [
    "The list of data science libraries are\n",
    "TensorFlow\n",
    "Scikit-Learn\n",
    "Numpy\n",
    "Keras\n",
    "PyTorch\n",
    "LightGBM\n",
    "Eli5\n",
    "SciPy"
   ]
  },
  {
   "cell_type": "markdown",
   "id": "9ba9458f",
   "metadata": {},
   "source": [
    "# List of Data Science tools are"
   ]
  },
  {
   "cell_type": "markdown",
   "id": "ca0b2fd0",
   "metadata": {},
   "source": [
    "| Sl No | Tool |\n",
    "| :- | -: |\n",
    "| 1 | SAS |\n",
    "| 2 | Apache Spark |\n",
    "| 3 | BigML |\n",
    "| 4 | D3 |\n",
    "| 5 | MATLAB |\n",
    "| 6 | Excel |\n",
    "| 7 | ggplot2 |\n",
    "| 8 | Tab |"
   ]
  },
  {
   "cell_type": "markdown",
   "id": "352608ea",
   "metadata": {},
   "source": [
    "# A Rogers-Ramanujan Identity"
   ]
  },
  {
   "cell_type": "markdown",
   "id": "271bb69a",
   "metadata": {},
   "source": [
    "\\begin{equation*}\n",
    "1 +  \\frac{q^2}{(1-q)}+\\frac{q^6}{(1-q)(1-q^2)}+\\cdots =\n",
    "\\prod_{j=0}^{\\infty}\\frac{1}{(1-q^{5j+2})(1-q^{5j+3})},\n",
    "\\quad\\quad \\text{for $|q|<1$}.\n",
    "\\end{equation*}"
   ]
  },
  {
   "cell_type": "markdown",
   "id": "49b1112f",
   "metadata": {},
   "source": [
    "# Code cell created to multiply and add numbers"
   ]
  },
  {
   "cell_type": "code",
   "execution_count": 4,
   "id": "ca879142",
   "metadata": {},
   "outputs": [
    {
     "name": "stdout",
     "output_type": "stream",
     "text": [
      "Enter a number:2\n",
      "8\n"
     ]
    }
   ],
   "source": [
    "num = input(\"Enter a number:\")    \n",
    "multiply_and_add = (int(num) * int(num)) + (int(num) * int(num))\n",
    "print(multiply_and_add)"
   ]
  },
  {
   "cell_type": "markdown",
   "id": "66d0d00d",
   "metadata": {},
   "source": [
    "# Code cell created to convert minutes to hours"
   ]
  },
  {
   "cell_type": "code",
   "execution_count": 11,
   "id": "88063f9f",
   "metadata": {},
   "outputs": [
    {
     "name": "stdout",
     "output_type": "stream",
     "text": [
      "360\n"
     ]
    },
    {
     "data": {
      "text/plain": [
       "'6:0'"
      ]
     },
     "execution_count": 11,
     "metadata": {},
     "output_type": "execute_result"
    }
   ],
   "source": [
    "def minutes_to_hours(minutes: int):\n",
    "    return '{}:{}'.format(*divmod(minutes,60))\n",
    "minutes_to_hours(int(input()))"
   ]
  },
  {
   "cell_type": "markdown",
   "id": "d542f885",
   "metadata": {},
   "source": [
    "# The unordered list is"
   ]
  },
  {
   "cell_type": "markdown",
   "id": "99482651",
   "metadata": {},
   "source": [
    "<ul>\n",
    "<li>Fish</li>\n",
    "<li>Eggs</li>\n",
    "<li>Cheese</li>\n",
    "</ul>"
   ]
  },
  {
   "cell_type": "markdown",
   "id": "a949a757",
   "metadata": {},
   "source": [
    "# Indicate Author’s"
   ]
  },
  {
   "cell_type": "markdown",
   "id": "98843cbd",
   "metadata": {},
   "source": [
    "---\n",
    "title: Tools for Data Science\n",
    "author: coursera\n",
    "date: today\n",
    "---"
   ]
  },
  {
   "cell_type": "code",
   "execution_count": null,
   "id": "223117c9",
   "metadata": {},
   "outputs": [],
   "source": []
  }
 ],
 "metadata": {
  "kernelspec": {
   "display_name": "Python 3 (ipykernel)",
   "language": "python",
   "name": "python3"
  },
  "language_info": {
   "codemirror_mode": {
    "name": "ipython",
    "version": 3
   },
   "file_extension": ".py",
   "mimetype": "text/x-python",
   "name": "python",
   "nbconvert_exporter": "python",
   "pygments_lexer": "ipython3",
   "version": "3.9.13"
  }
 },
 "nbformat": 4,
 "nbformat_minor": 5
}
